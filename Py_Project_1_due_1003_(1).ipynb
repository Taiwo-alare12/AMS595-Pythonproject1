{
  "cells": [
    {
      "cell_type": "markdown",
      "metadata": {
        "id": "xq__bChjD04e"
      },
      "source": [
        "# Python Assignment 1"
      ]
    },
    {
      "cell_type": "markdown",
      "source": [
        "⏱⏱⏱**Due: 10/03/2023 11:59 PM** ⏱⏱⏱\n",
        "\n",
        "Submit this notebook file and upload it to your git repo. Include a link to your git repo while submitting this file to Brightspace.\n",
        "\n",
        "You are not allowed to use chatgpt or any LLM in this assignment.\n",
        "Cooperation is allowed and encouraged; however, you must write up and submit your own work. If you cooperate with others, you must list their names here."
      ],
      "metadata": {
        "id": "y7j2V0UDMYLG"
      }
    },
    {
      "cell_type": "markdown",
      "metadata": {
        "id": "SUS30Ew9D04n"
      },
      "source": [
        "(100 points total)"
      ]
    },
    {
      "cell_type": "markdown",
      "source": [
        "## 0. Data Types, Structures, Indexing, and Slicing"
      ],
      "metadata": {
        "id": "b_bgT3b2GYTB"
      }
    },
    {
      "cell_type": "markdown",
      "source": [
        "Read the lecutre note as well as [this page](https://www.geeksforgeeks.org/mutable-vs-immutable-objects-in-python/) and [this page](https://www.geeksforgeeks.org/difference-between-shallow-and-deep-copy-of-a-class/). Complete the following questions.\n",
        "\n",
        "(5 points) Give some examples (at least 2) of mutable objects in Python.\n",
        "\n",
        "***Answer:***\n",
        "\n",
        "list, dictionaries, byte arrays and set\n",
        "\n",
        "---\n",
        "\n",
        "\n",
        "\n",
        "(5 points) Give some examples (at least 2) of immutable objects in Python.\n",
        "\n",
        "***Answer:***\n",
        "\n",
        "frozen sets, numbers(int,float), tuples and strings\n",
        "\n",
        "---\n",
        "\n",
        "\n",
        "\n",
        "(10 points) State the differences between assignment, shallow copy, and deep copy. Any reasonable answer will get full credit.\n",
        "\n",
        "***Answer:***\n",
        "\n",
        "When assignment is used, a new reference is created for the object. Both variables reference the same object. Therefore, any changes made to one variable are reflected in the other.\n",
        "\n",
        "Shallow copy is used to create a new object but does not copy the elements inside the object. It copies the references of the original elements. If the original object has mutable elements (e.g. list), then changes to those elements are reflected in the original and shallow copy. But if the original object has immutable elements (i.e. tuples), they are not affected.\n",
        "\n",
        " Deep copy, on the other hand, creates a new object by recursively copying all elements inside the and creating new copies.\n",
        "\n",
        "In summary, assignment generates a new reference to the same object, shallow copy generates a new object but does not replicate elements within the object, and deep copy generates a new object and recursively copies all elements, resulting in new copies of everything.\n",
        "\n",
        "---\n",
        "\n",
        "\n",
        "\n"
      ],
      "metadata": {
        "id": "6yI1Jt57IwV2"
      }
    },
    {
      "cell_type": "markdown",
      "source": [
        "(10 points) Using string methods find() and rfind(), find the index of the first digit (i.e. 0) and the index of the last digit (5) in the string below. Then, using string slicing, extract the number (i.e. 0.595595) from this string and convert the extracted value to a floating point number. Print out this float to the console."
      ],
      "metadata": {
        "id": "OA8DxcrrGqZD"
      }
    },
    {
      "cell_type": "code",
      "source": [
        "text = \"F-DGFDDSFGFD-CFDSHdstgfdfe: tfsd  aaa bdsf 0.595595 fdsgfdbc\";\n",
        "# My first step:I find the index of the first digit (0) using text.find\n",
        "text = \"The value is 0.595595\"\n",
        "first_digit_index = text.find('0')\n",
        "\n",
        "# My second step: I find the index of the last digit (5) using text.rfind.\n",
        "last_digit_index = text.rfind('5')\n",
        "\n",
        "# My third step: I extracted the number from the first digit(0) to the last digit (5) using slicing.\n",
        "extracted_number = text[first_digit_index:last_digit_index+1]\n",
        "\n",
        "# My fourth step: I converted the extracted value to a floating-point number using float.\n",
        "float_number = float(extracted_number)\n",
        "\n",
        "# My fifth step:  I printed out the float to the console using print.\n",
        "print(float_number)\n"
      ],
      "metadata": {
        "id": "AUuFXXWqG4D3",
        "colab": {
          "base_uri": "https://localhost:8080/"
        },
        "outputId": "f416ccff-4454-4fed-daaa-282fbb394f21"
      },
      "execution_count": null,
      "outputs": [
        {
          "output_type": "stream",
          "name": "stdout",
          "text": [
            "0.595595\n"
          ]
        }
      ]
    },
    {
      "cell_type": "markdown",
      "metadata": {
        "id": "cnCljYgpD04p"
      },
      "source": [
        "## 1. Conditional Statements\n",
        "\n",
        "(10 points)\n",
        "Translate the following MATLAB code into Python using `if-elif-else`.\n",
        "```\n",
        "n = input('Enter a number: ');\n",
        "\n",
        "switch n\n",
        "    case -1\n",
        "        disp('negative one')\n",
        "    case 0\n",
        "        disp('zero')\n",
        "    case 1\n",
        "        disp('positive one')\n",
        "    otherwise\n",
        "        disp('other value')\n",
        "end\n",
        "```"
      ]
    },
    {
      "cell_type": "code",
      "execution_count": 24,
      "metadata": {
        "collapsed": true,
        "id": "9d8vl5zjD04q",
        "colab": {
          "base_uri": "https://localhost:8080/"
        },
        "outputId": "d52f9b24-211e-4586-b657-895c0e4f74d8"
      },
      "outputs": [
        {
          "output_type": "stream",
          "name": "stdout",
          "text": [
            "Enter a number: 79\n",
            "other value\n"
          ]
        }
      ],
      "source": [
        "# Converting Matlab code to Phython; first, I need to understand the code and its function.\n",
        "# The code provided  is a simple program that takes  input from the user and prints a message based on the value of the input.\n",
        "# To do this, I take the user's input and convert it to int using int(input(...)).  I then use 'if' to check if n is  -1, 'elif' (which means \"if else\") to check if it is 0 or 1, and otherwise to handle any any other value. Depending on the value of n, the corresponding message will be printed.\n",
        "\n",
        "# Taking an input from the user and converting it to an integer\n",
        "n = int(input('Enter a number: '))\n",
        "\n",
        "\n",
        "# Checking the value of n using if-elif-else statements\n",
        "if n == -1:\n",
        "    print('negative one')  # If n is -1, print 'negative one'\n",
        "elif n == 0:\n",
        "    print('zero')  # If n is 0, print 'zero'\n",
        "elif n == 1:\n",
        "    print('positive one')  # If n is 1, print 'positive one'\n",
        "else:\n",
        "    print('other value')  # If n doesn't match any of the above cases, print 'other value'\n"
      ]
    },
    {
      "cell_type": "markdown",
      "metadata": {
        "id": "sW9XiUPpD04s"
      },
      "source": [
        "## 2. While Loops\n",
        "\n",
        "(10 points) Write a Python program that calculates the factorial of a given number (you can assume an positive integer) using a while loop. Display the result to the console."
      ]
    },
    {
      "cell_type": "code",
      "execution_count": null,
      "metadata": {
        "id": "CRCERx8uD04t",
        "colab": {
          "base_uri": "https://localhost:8080/"
        },
        "outputId": "43b16658-a274-4f09-fe6b-4402c426dbdd"
      },
      "outputs": [
        {
          "output_type": "stream",
          "name": "stdout",
          "text": [
            "Enter a positive integer: 17\n",
            "The factorial is: 355687428096000\n"
          ]
        }
      ],
      "source": [
        "# In this code, I assumed that the user's input is a positive interger. therefore, I did not check the type of integer inputed.\n",
        "# Taking  user input for the positive integer.\n",
        "a= int(input(\"Enter a positive integer: \"))\n",
        "\n",
        "# I also assumed that the positive integer is greater than zero. I then initialize the factorial for a=1.\n",
        "# Initializing the factorial variable to 1 using factorial = 1\n",
        "factorial = 1\n",
        "\n",
        "# Calculating factorial using a while loop for a greater than zero but not equal to one.\n",
        "while a > 0:\n",
        "    factorial *= a\n",
        "    a -= 1\n",
        "\n",
        "# Displaying the result using print.\n",
        "print(f\"The factorial is: {factorial}\")\n",
        "# I ran the code for the test cases n =17 and n= 13 while n=a.\n",
        "\n",
        "\n",
        "\n",
        "# test cases\n",
        "# n = 17, Output: 355687428096000\n",
        "# n = 13, Output: 6227020800\n",
        "\n",
        "\n"
      ]
    },
    {
      "cell_type": "markdown",
      "metadata": {
        "id": "ZQ5SVMq6D04w"
      },
      "source": [
        "## 3. Functions\n",
        "\n",
        "(10 points) Write a function that determines if a number is prime."
      ]
    },
    {
      "cell_type": "code",
      "execution_count": 16,
      "metadata": {
        "id": "6rGP5G3_D04x",
        "colab": {
          "base_uri": "https://localhost:8080/"
        },
        "outputId": "b7e02f05-fd17-44de-fc7c-b41f600d1535"
      },
      "outputs": [
        {
          "output_type": "stream",
          "name": "stdout",
          "text": [
            "is 2 prime?: True\n",
            "is 10 prime?: False\n",
            "is 17 prime?: True\n"
          ]
        }
      ],
      "source": [
        "def is_prime(n):\n",
        "\n",
        "    # this code only run for positive integers\n",
        "    # 0 and 1 are not prime numbers. Therefore, positive integers lesser than 2 are not prime number.\n",
        "    if n < 2:\n",
        "        return False  # Numbers less than 2 are not prime\n",
        "    elif n == 2:\n",
        "        return True   # 2 is a prime number\n",
        "    elif n % 2 == 0:\n",
        "        return False  # Even numbers (except 2) are not prime because they are divisible by 2\n",
        "\n",
        "    # Since I have validated that even numbers greater than 2 are not prime numbers, I only need to check odd divisors up to the square root of the number\n",
        "    for i in range(3, int(n**0.5) + 1, 2):\n",
        "        if n % i == 0:\n",
        "            return False  # If the number is divisible by i, it's not prime\n",
        "\n",
        "    return True  # If no divisors are found, the number is prime\n",
        "\n",
        "    # Test cases\n",
        "test_numbers = [2, 10,17,]\n",
        "\n",
        "for n in test_numbers:\n",
        "    result = is_prime(n)\n",
        "    print(f\"is {n} prime?: {result}\")\n",
        "\n",
        "\n",
        "\n",
        "\n"
      ]
    },
    {
      "cell_type": "markdown",
      "metadata": {
        "id": "Z6qg-fpQD04u"
      },
      "source": [
        "## 4. List Comprehension\n",
        "\n",
        "(10 points) Write a Python function called `prime_factors` that takes a relatively small integer as input and returns a list of its distinct prime factors. The function should use list comprehension to generate the list of distinct prime factors. You may use the function is_prime() defined in Q3.\n"
      ]
    },
    {
      "cell_type": "code",
      "execution_count": 30,
      "metadata": {
        "collapsed": true,
        "id": "2hSCjYlOD04v",
        "colab": {
          "base_uri": "https://localhost:8080/"
        },
        "outputId": "94a484f5-8306-44a0-b1b8-c63da039cfde"
      },
      "outputs": [
        {
          "output_type": "stream",
          "name": "stdout",
          "text": [
            "The prime factors of 56 are: [2, 7]\n",
            "The prime factors of 136 are: [2, 17]\n",
            "The prime factors of 27 are: [3]\n",
            "The prime factors of 68 are: [2, 17]\n",
            "The prime factors of 101 are: [101]\n"
          ]
        }
      ],
      "source": [
        "def prime_factors(n):\n",
        "  # this code only run for positive integers\n",
        "  # 0 and 1 do not have prime factors. Therefore, positive integers lesser than 2 do not have prime fctors.\n",
        "\n",
        "    return [i for i in range(2, n+1) if n % i == 0 and is_prime(i)]\n",
        "# test case\n",
        "a = [56, 136, 27, 68, 101] # I mistakely deleted the test cases given and I could not retrieve them so i used 56, 136, 27 , 68, and 101 as my test cases.\n",
        "\n",
        "for n in a:\n",
        "    result = prime_factors(n)\n",
        "    print(f\"The prime factors of {n} are: {result}\")\n",
        "\n",
        "\n"
      ]
    },
    {
      "cell_type": "markdown",
      "metadata": {
        "id": "dw4kZZCiD040"
      },
      "source": [
        "## 5. Recursive Functions\n",
        "(25 points) Write a function that uses recursion to generate the $n$th row of the Pascal's triangle.\n",
        "```\n",
        "              1\n",
        "           1     1\n",
        "        1     2     1\n",
        "      1    3     3     1\n",
        "   1    4     6     4    1\n",
        "1     5    10    10    5    1\n",
        "...\n",
        "...\n",
        "...\n",
        "```"
      ]
    },
    {
      "cell_type": "code",
      "execution_count": null,
      "metadata": {
        "id": "V8QFB_gKD040",
        "colab": {
          "base_uri": "https://localhost:8080/"
        },
        "outputId": "b84530ef-b104-4edd-b468-bedc60dd12a4"
      },
      "outputs": [
        {
          "output_type": "stream",
          "name": "stdout",
          "text": [
            "[1, 6, 15, 20, 15, 6, 1]\n"
          ]
        }
      ],
      "source": [
        "def pascal(n):\n",
        "# from the triangle when the power n=0, it is 1\n",
        "# writing the code to return 1 if n=0 and to return [1,1] if n=1\n",
        "    if n == 0:\n",
        "        return [1]\n",
        "    elif n == 1:\n",
        "        return [1, 1]\n",
        "# writing command to generate the for next values of n using recursion\n",
        "    else:\n",
        "        prev_r = pascal(n - 1)  # r represent row\n",
        "        new_r = [1]\n",
        "        for a in range(1, n):\n",
        "            new_r.append(prev_r[a - 1] + prev_r[a])\n",
        "        new_r.append(1)\n",
        "        return new_r\n",
        "# test case for n=7\n",
        "# n should be a positive integer.\n",
        "r = pascal(7)\n",
        "print(r)\n",
        "\n",
        "\n"
      ]
    },
    {
      "cell_type": "markdown",
      "metadata": {
        "id": "eZytgm0qD041"
      },
      "source": [
        "Rewrite the above function using only `while` or `for` loops instead of recursion."
      ]
    },
    {
      "cell_type": "code",
      "execution_count": null,
      "metadata": {
        "collapsed": true,
        "id": "UZ8f-akaD041",
        "colab": {
          "base_uri": "https://localhost:8080/"
        },
        "outputId": "57dd2bfa-f972-44ce-ecb2-232bf3b55626"
      },
      "outputs": [
        {
          "output_type": "stream",
          "name": "stdout",
          "text": [
            "[1, 7, 21, 35, 35, 21, 7, 1]\n"
          ]
        }
      ],
      "source": [
        "def pascal_by_loops(n):\n",
        "# Using for loop instead of recursion\n",
        "    row = [1]\n",
        "    for i in range(1, n + 1):\n",
        "        new_element = (row[-1] * (n - i + 1)) // i\n",
        "        row.append(new_element)\n",
        "    return row\n",
        "#test case, testing for n=7\n",
        "# n should be a positive integer.\n",
        "print(pascal_by_loops(7))\n"
      ]
    },
    {
      "cell_type": "markdown",
      "source": [
        "\n",
        "\n",
        "---\n",
        "\n",
        "\n",
        "（5 points) good coding practice and properly submitting your work to GitHub."
      ],
      "metadata": {
        "id": "HvHD6QHzVo9I"
      }
    }
  ],
  "metadata": {
    "anaconda-cloud": {},
    "kernelspec": {
      "display_name": "Python 3",
      "language": "python",
      "name": "python3"
    },
    "language_info": {
      "codemirror_mode": {
        "name": "ipython",
        "version": 3
      },
      "file_extension": ".py",
      "mimetype": "text/x-python",
      "name": "python",
      "nbconvert_exporter": "python",
      "pygments_lexer": "ipython3",
      "version": "3.7.4"
    },
    "colab": {
      "provenance": []
    }
  },
  "nbformat": 4,
  "nbformat_minor": 0
}